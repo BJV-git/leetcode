{
 "cells": [
  {
   "cell_type": "code",
   "execution_count": 3,
   "metadata": {},
   "outputs": [
    {
     "name": "stdout",
     "output_type": "stream",
     "text": [
      "55\n"
     ]
    }
   ],
   "source": [
    "# Write function for sum upto the integer\n",
    "\n",
    "def sumto0(n):\n",
    "    if n == 1:\n",
    "        return 1\n",
    "    else:\n",
    "        return n+sumto0(n-1)\n",
    "\n",
    "print(sumto0(10))"
   ]
  },
  {
   "cell_type": "code",
   "execution_count": 9,
   "metadata": {},
   "outputs": [
    {
     "name": "stdout",
     "output_type": "stream",
     "text": [
      "45\n"
     ]
    }
   ],
   "source": [
    "# write function to sum all the numbers in a number\n",
    "\n",
    "def sum_num(n):\n",
    "    \n",
    "    if len(str(n)) == 1:\n",
    "        return n\n",
    "    else:\n",
    "        \n",
    "        return n%10 + sum_num(int(n/10))\n",
    "    \n",
    "\n",
    "print(sum_num(123456789))\n",
    "        "
   ]
  },
  {
   "cell_type": "code",
   "execution_count": 10,
   "metadata": {
    "collapsed": true
   },
   "outputs": [],
   "source": [
    "# learned: Memorization\n",
    "\n",
    "# its needed when only like fibonnacci not like the sum of n recursive or like factorial, as it either ways goes single\n",
    "# ways\n",
    "\n",
    "# recursion is like we solve the problem at min level, and then build on top of it by storing the results in stack\n",
    "\n",
    "# so its like serialization of the problem\n",
    "\n",
    "# so anything that can be done in a serial way can also be done through the recursive manner\n",
    "\n",
    "# its about if we got the input extended by one more how the previous results can be used to get the updated output\n",
    "\n"
   ]
  },
  {
   "cell_type": "code",
   "execution_count": 19,
   "metadata": {},
   "outputs": [
    {
     "name": "stdout",
     "output_type": "stream",
     "text": [
      "6\n"
     ]
    }
   ],
   "source": [
    "# factorial with memorization\n",
    "\n",
    "fac_mem={}\n",
    "\n",
    "def fact_mem(k):\n",
    "    if k < 2:\n",
    "        return 1\n",
    "    if not k in fac_mem:\n",
    "        fac_mem[k] = k * fact_mem(k-1)\n",
    "    \n",
    "    return fac_mem[k]\n",
    "    \n",
    "print(fact_mem(3))\n",
    "    "
   ]
  },
  {
   "cell_type": "code",
   "execution_count": null,
   "metadata": {
    "collapsed": true
   },
   "outputs": [],
   "source": [
    "# "
   ]
  }
 ],
 "metadata": {
  "kernelspec": {
   "display_name": "Python 3",
   "language": "python",
   "name": "python3"
  },
  "language_info": {
   "codemirror_mode": {
    "name": "ipython",
    "version": 3
   },
   "file_extension": ".py",
   "mimetype": "text/x-python",
   "name": "python",
   "nbconvert_exporter": "python",
   "pygments_lexer": "ipython3",
   "version": "3.5.2"
  }
 },
 "nbformat": 4,
 "nbformat_minor": 2
}
